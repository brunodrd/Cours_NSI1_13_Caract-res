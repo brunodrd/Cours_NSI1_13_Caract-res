{
 "cells": [
  {
   "cell_type": "markdown",
   "metadata": {},
   "source": [
    "<table>\n",
    "    <tr style=\"width:500px;\">\n",
    "        <th><h2>NSI1</h2></th>\n",
    "        <th><h2>e13a</h2></th>\n",
    "        <th style=\"width:500px;\" colspan=\"2\"><h2>Représentation d’un texte en machine</h2></th>\n",
    "    </tr>\n",
    "    <tr>\n",
    "        <td colspan=\"4\"><h3>Différents systèmes d’encodage</h3></td>\n",
    "    </tr>\n",
    "    <tr>\n",
    "        <td colspan=\"2\"></td>\n",
    "        <td ><h3>Codage d'un message</h3></td>\n",
    "        <td style=\"width:30px;\"><h3>1/1</h3></td>\n",
    "    </tr>\n",
    "</table>"
   ]
  },
  {
   "cell_type": "markdown",
   "metadata": {},
   "source": [
    "## Objectifs de la séquence:\n",
    "- Convertir un fichier texte dans différents formats d’encodage.\n",
    "- Exemples des encodages ASCII, ISO-8859-1, Unicode\n",
    "- Caractères et chaîne de caractères\n",
    "\n",
    "## Activités\n",
    "- Découverte de la notion de caractère, codage ASCII\n",
    "- Parcours d'une chaîne de caractères\n",
    "- Codage et décodage César d'une chaîne de caractères\n",
    "\n",
    "<h3>ASCII - American Standard Code for Information Interchange</h3>\n",
    "\n",
    "Il s'agit d'un encodage de caractères (1963).\n",
    "ASCII est un code de <b>7 bits</b> définissant <b>128</b> caractères (27). L’encodage se compose de 33 caractères non imprimables et 95 caractères imprimables et comprend des lettres, des signes de ponctuation, des chiffres ainsi que des caractères de contrôle Unicode.\n"
   ]
  },
  {
   "cell_type": "markdown",
   "metadata": {},
   "source": [
    "![table_ASCII](img/table-code-ascii.gif \"ShowMyImage\")"
   ]
  },
  {
   "cell_type": "markdown",
   "metadata": {},
   "source": [
    "Le code ASCII se compose du code MSB lu dans la colonne puis du code LSB lu en ligne."
   ]
  },
  {
   "cell_type": "markdown",
   "metadata": {},
   "source": [
    "![composition_code_ASCII](img/codage-ascii.gif \"ShowMyImage\")"
   ]
  },
  {
   "cell_type": "markdown",
   "metadata": {},
   "source": [
    "Par exemple le 'A' se compose des codes (en binaire): MSB = 100 et LSB = 0001\n",
    "Soit code ASCII de 'A' en binaire = 0100 0001\n",
    "     code ASCII de 'A' en hexadécimal = 41\n",
    "     valeur décimale du code ASCII de 'A' = 65\n",
    "\n",
    "Le code ASCII d'un caractère peut être rerouvé avec l'instruction <b>ord()</b>\n",
    "\n",
    "source: https://docs.python.org/fr/3/library/functions.html#ord\n",
    "\n",
    "exemple:"
   ]
  },
  {
   "cell_type": "code",
   "execution_count": 6,
   "metadata": {},
   "outputs": [
    {
     "data": {
      "text/plain": [
       "65"
      ]
     },
     "execution_count": 6,
     "metadata": {},
     "output_type": "execute_result"
    }
   ],
   "source": [
    "ord('A')"
   ]
  },
  {
   "cell_type": "code",
   "execution_count": 8,
   "metadata": {},
   "outputs": [
    {
     "data": {
      "text/plain": [
       "97"
      ]
     },
     "execution_count": 8,
     "metadata": {},
     "output_type": "execute_result"
    }
   ],
   "source": [
    "ord('a')"
   ]
  },
  {
   "cell_type": "code",
   "execution_count": 9,
   "metadata": {},
   "outputs": [
    {
     "data": {
      "text/plain": [
       "49"
      ]
     },
     "execution_count": 9,
     "metadata": {},
     "output_type": "execute_result"
    }
   ],
   "source": [
    "ord('1')"
   ]
  },
  {
   "cell_type": "markdown",
   "metadata": {},
   "source": [
    "Pour simplifier la lecture du tableau, il est préférable de travailler sur les valeurs héxadécimales ou binaires.\n",
    "\n",
    "Les instructions <b>hex()</b> et <b>bin()</b> permettent de convertir la valeur décimale par défaut:"
   ]
  },
  {
   "cell_type": "code",
   "execution_count": 14,
   "metadata": {},
   "outputs": [
    {
     "data": {
      "text/plain": [
       "'0x41'"
      ]
     },
     "execution_count": 14,
     "metadata": {},
     "output_type": "execute_result"
    }
   ],
   "source": [
    "hex(ord('A'))"
   ]
  },
  {
   "cell_type": "code",
   "execution_count": 15,
   "metadata": {},
   "outputs": [
    {
     "data": {
      "text/plain": [
       "'0b1000001'"
      ]
     },
     "execution_count": 15,
     "metadata": {},
     "output_type": "execute_result"
    }
   ],
   "source": [
    "bin(ord('A'))"
   ]
  },
  {
   "cell_type": "markdown",
   "metadata": {},
   "source": [
    "A l'inverse l'instruction <b>chr()</b> permet de retrouver le caractère qui correspond à un code:\n",
    "\n",
    "source: https://docs.python.org/fr/3/library/functions.html#chr"
   ]
  },
  {
   "cell_type": "code",
   "execution_count": 16,
   "metadata": {},
   "outputs": [
    {
     "data": {
      "text/plain": [
       "'A'"
      ]
     },
     "execution_count": 16,
     "metadata": {},
     "output_type": "execute_result"
    }
   ],
   "source": [
    "chr(65)"
   ]
  },
  {
   "cell_type": "code",
   "execution_count": 17,
   "metadata": {},
   "outputs": [
    {
     "data": {
      "text/plain": [
       "'A'"
      ]
     },
     "execution_count": 17,
     "metadata": {},
     "output_type": "execute_result"
    }
   ],
   "source": [
    "chr(0x41)"
   ]
  },
  {
   "cell_type": "code",
   "execution_count": 19,
   "metadata": {},
   "outputs": [
    {
     "data": {
      "text/plain": [
       "'1'"
      ]
     },
     "execution_count": 19,
     "metadata": {},
     "output_type": "execute_result"
    }
   ],
   "source": [
    "chr(49)"
   ]
  },
  {
   "cell_type": "code",
   "execution_count": 21,
   "metadata": {},
   "outputs": [
    {
     "data": {
      "text/plain": [
       "'1'"
      ]
     },
     "execution_count": 21,
     "metadata": {},
     "output_type": "execute_result"
    }
   ],
   "source": [
    "chr(0x31)"
   ]
  },
  {
   "cell_type": "markdown",
   "metadata": {},
   "source": [
    "On peut donc traduire une chaîne de caractères en code ASCII.\n",
    "\n",
    "Par exemple,<b>'NSI'</b> sera la succession des codes ASCII <span style=\"color:green\">0x4e 0x53 0x49</span> (en héxadécimal) ou <span style=\"color:green\">78 83 73</span> en valeurs décimales."
   ]
  },
  {
   "cell_type": "markdown",
   "metadata": {},
   "source": [
    "<h3>A vous de jouer</h3>\n",
    "Q1. Donnez le code ASCII <b>'BONJOUR'</b> en héxadécimal."
   ]
  },
  {
   "cell_type": "code",
   "execution_count": 31,
   "metadata": {},
   "outputs": [
    {
     "data": {
      "text/plain": [
       "'0x42'"
      ]
     },
     "execution_count": 31,
     "metadata": {},
     "output_type": "execute_result"
    }
   ],
   "source": [
    "hex(ord('B'))"
   ]
  },
  {
   "cell_type": "markdown",
   "metadata": {},
   "source": [
    "Q2. Quelle séquence est codée par <span style=\"color:green\">0x4d 0x30 0x6c 0x49 0x20 0x52</span> ?\n"
   ]
  },
  {
   "cell_type": "code",
   "execution_count": 39,
   "metadata": {},
   "outputs": [
    {
     "data": {
      "text/plain": [
       "'0x52'"
      ]
     },
     "execution_count": 39,
     "metadata": {},
     "output_type": "execute_result"
    }
   ],
   "source": [
    "hex(ord('R'))"
   ]
  },
  {
   "cell_type": "markdown",
   "metadata": {},
   "source": [
    "<h3>Parcours d'une chaîne de caractères</h3>\n",
    "L'instruction <b>len()</b> permet de récupérer la longueur d'une chaîne de caractères."
   ]
  },
  {
   "cell_type": "code",
   "execution_count": 44,
   "metadata": {},
   "outputs": [
    {
     "data": {
      "text/plain": [
       "4"
      ]
     },
     "execution_count": 44,
     "metadata": {},
     "output_type": "execute_result"
    }
   ],
   "source": [
    "mot = \"Ceci\"\n",
    "len(mot)"
   ]
  },
  {
   "cell_type": "code",
   "execution_count": 46,
   "metadata": {},
   "outputs": [
    {
     "data": {
      "text/plain": [
       "'C'"
      ]
     },
     "execution_count": 46,
     "metadata": {},
     "output_type": "execute_result"
    }
   ],
   "source": [
    "mot[0]"
   ]
  },
  {
   "cell_type": "markdown",
   "metadata": {},
   "source": [
    "*mot[i]* permet de récupérer le ième caractère de la chaîne.\n",
    "\n",
    "Parcours par indice:\n",
    "Le code suivant permet de parcourir l'ensemble des caractères qui constituent une chaîne:"
   ]
  },
  {
   "cell_type": "code",
   "execution_count": 45,
   "metadata": {},
   "outputs": [
    {
     "name": "stdout",
     "output_type": "stream",
     "text": [
      "C\n",
      "e\n",
      "c\n",
      "i\n"
     ]
    }
   ],
   "source": [
    "for i in range(len(mot)):\n",
    "    print(mot[i])"
   ]
  },
  {
   "cell_type": "markdown",
   "metadata": {},
   "source": [
    "Parcours par élément:\n",
    "Python permet aussi de parcourir une structure par élément:"
   ]
  },
  {
   "cell_type": "code",
   "execution_count": 47,
   "metadata": {},
   "outputs": [
    {
     "name": "stdout",
     "output_type": "stream",
     "text": [
      "C\n",
      "e\n",
      "c\n",
      "i\n"
     ]
    }
   ],
   "source": [
    "for lettre in mot:\n",
    "    print(lettre)"
   ]
  },
  {
   "cell_type": "markdown",
   "metadata": {},
   "source": [
    "Q3.  le premier cas, quel est le type de *'i'* ?\n",
    "\n",
    "Q4. Dans le second, quel est le type de *'lettre'* ?\n",
    "\n",
    "Q5. Modifiez le code suivant (à  l'endroit marqué par '...') pour qu'il affiche le code ASCII (en hexadécimal) de chacun des caractères de <b>'chaine'</b>."
   ]
  },
  {
   "cell_type": "code",
   "execution_count": 56,
   "metadata": {},
   "outputs": [
    {
     "name": "stdout",
     "output_type": "stream",
     "text": [
      "Ellipsis Ellipsis Ellipsis Ellipsis Ellipsis Ellipsis Ellipsis Ellipsis Ellipsis Ellipsis Ellipsis Ellipsis Ellipsis Ellipsis Ellipsis Ellipsis Ellipsis Ellipsis Ellipsis Ellipsis Ellipsis Ellipsis Ellipsis Ellipsis Ellipsis Ellipsis Ellipsis Ellipsis Ellipsis Ellipsis Ellipsis Ellipsis Ellipsis "
     ]
    }
   ],
   "source": [
    "chaine = \"Ceci est une chaîne de caractères\"\n",
    "for lettre in chaine:\n",
    "    print(..., end=\" \")"
   ]
  },
  {
   "cell_type": "markdown",
   "metadata": {},
   "source": [
    "Q6. Quel est l'utilité de <b>end=\" \"</b> dans l'instruction print ?\n",
    "\n",
    "Le programme suivant permet d'effectué un codage César d'une chaîne de caractères."
   ]
  },
  {
   "cell_type": "code",
   "execution_count": 72,
   "metadata": {},
   "outputs": [
    {
     "name": "stdout",
     "output_type": "stream",
     "text": [
      "La chaîne avant codage: Message sans code\n",
      "0x4d 0x65 0x73 0x73 0x61 0x67 0x65 0x20 0x73 0x61 0x6e 0x73 0x20 0x63 0x6f 0x64 0x65 \n",
      "0x4e 0x66 0x74 0x74 0x62 0x68 0x66 0x21 0x74 0x62 0x6f 0x74 0x21 0x64 0x70 0x65 0x66 \n",
      "La chaîne codée: Nfttbhf!tbot!dpef\n"
     ]
    }
   ],
   "source": [
    "\"\"\" Codage César d'une chaîne de caractères.\n",
    "\"\"\"\n",
    "\n",
    "def affiche_code_ASCII_chaine(chaine):\n",
    "    \"\"\"list ---> Nonetype\n",
    "    chaine doit être une chaîne de caractères ASCII.\n",
    "    La fonction affiche les codes héxadécimaux des caractères de la chaîne.\n",
    "    \"\"\"\n",
    "    for lettre in chaine:\n",
    "        print(hex(ord(lettre)), end=\" \")\n",
    "    print(\"\") # Retourne à la ligne en fin de message.\n",
    "        \n",
    "def decale_code_ASCII_chaine(chaine,decalage):\n",
    "    \"\"\"list ---> list\n",
    "    chaine doit être une chaîne de caractères ASCII.\n",
    "    decalage est un entier.\n",
    "    La fonction affiche les codes héxadécimaux des caractères de la chaîne.\n",
    "    \"\"\"\n",
    "    chaine_codee = \"\" # Initialise la chaîne de caractère à construire\n",
    "    for lettre in chaine:\n",
    "        chaine_codee += chr(ord(lettre)+decalage) # Ajoute le caractère codé\n",
    "    return chaine_codee\n",
    "\n",
    "# Corps principal\n",
    "chaine_initiale = \"Message sans code\"\n",
    "print(\"La chaîne avant codage:\",chaine_initiale)\n",
    "affiche_code_ASCII_chaine(chaine_initiale)\n",
    "chaine_modifiee = decale_code_ASCII_chaine(chaine_initiale,1)\n",
    "affiche_code_ASCII_chaine(chaine_modifiee)\n",
    "print(\"La chaîne codée:\",chaine_modifiee)"
   ]
  },
  {
   "cell_type": "markdown",
   "metadata": {},
   "source": [
    "Q7. Quelle transformation a été effectuée sur la chaîne pour la coder?\n",
    "Modifiez le programme (...) pour que le codage soit inversé:\n",
    "- Mettre la chaîne codée *'Nfttbhf!tbot!dpef'* à la place de la chaine_initiale.\n",
    "- Changer le paramètre lors de l'appel de decale_code_ASCII_chaine()"
   ]
  },
  {
   "cell_type": "code",
   "execution_count": 82,
   "metadata": {},
   "outputs": [
    {
     "name": "stdout",
     "output_type": "stream",
     "text": [
      "La chaîne avant codage: ...\n",
      "0x2e 0x2e 0x2e \n",
      "0x2e 0x2e 0x2e \n",
      "La chaîne codée: ...\n"
     ]
    }
   ],
   "source": [
    "# Corps principale\n",
    "chaine_initiale = \"...\"\n",
    "print(\"La chaîne avant codage:\",chaine_initiale)\n",
    "affiche_code_ASCII_chaine(chaine_initiale)\n",
    "chaine_modifiee = decale_code_ASCII_chaine(chaine_initiale,...)\n",
    "affiche_code_ASCII_chaine(chaine_modifiee)\n",
    "print(\"La chaîne codée:\",chaine_modifiee)"
   ]
  },
  {
   "cell_type": "markdown",
   "metadata": {},
   "source": [
    "Q8. Quel paramètre avez-vous mis ?"
   ]
  },
  {
   "cell_type": "markdown",
   "metadata": {},
   "source": [
    "Q9. Défit:\n",
    "Ce code a été crypté en code César.\n",
    "\n",
    "<span style=\"color:red\">Mo*myno*}o*mk}}o*pkmsvowoxv</span>\n",
    "\n",
    "Trouver le clef de décodage et le message initial.\n",
    "Pistes:\n",
    "- Sur Spyder, reprenez les fonctions définies plus haut.\n",
    "- Dans le corps principal faites une boucle qui permette de parcourir tous les décalages de -20 à +20 par exemple\n",
    "- Dans la boucle traduisez le message avec les différentes valeurs de <i>decalage</i> obtenu\n",
    "- Affichez les messages décalés"
   ]
  },
  {
   "cell_type": "code",
   "execution_count": null,
   "metadata": {},
   "outputs": [],
   "source": []
  }
 ],
 "metadata": {
  "kernelspec": {
   "display_name": "Python 3",
   "language": "python",
   "name": "python3"
  },
  "language_info": {
   "codemirror_mode": {
    "name": "ipython",
    "version": 3
   },
   "file_extension": ".py",
   "mimetype": "text/x-python",
   "name": "python",
   "nbconvert_exporter": "python",
   "pygments_lexer": "ipython3",
   "version": "3.7.3"
  }
 },
 "nbformat": 4,
 "nbformat_minor": 2
}
